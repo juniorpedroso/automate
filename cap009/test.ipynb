{
 "cells": [
  {
   "cell_type": "code",
   "execution_count": 2,
   "metadata": {},
   "outputs": [
    {
     "name": "stdout",
     "output_type": "stream",
     "text": [
      "C:\\Users\\asweigart\\account.txt\n",
      "C:\\Users\\asweigart\\details.csv\n",
      "C:\\Users\\asweigart\\invite.docx\n"
     ]
    }
   ],
   "source": [
    "import os\n",
    "myFiles = ['account.txt', 'details.csv', 'invite.docx']\n",
    "for filename in myFiles:\n",
    "    print(os.path.join('C:\\\\Users\\\\asweigart',filename))\n"
   ]
  },
  {
   "cell_type": "code",
   "execution_count": 10,
   "metadata": {},
   "outputs": [
    {
     "name": "stdout",
     "output_type": "stream",
     "text": [
      "C:\\Users\\Al\\account.txt\n",
      "C:\\Users\\Al\\detais.csv\n",
      "C:\\Users\\Al\\invite.docx\n"
     ]
    }
   ],
   "source": [
    "from pathlib import Path\n",
    "myFiles = ['account.txt', 'detais.csv', 'invite.docx']\n",
    "for filename in myFiles:\n",
    "    print(Path(r'C:\\Users\\Al', filename))\n"
   ]
  },
  {
   "cell_type": "code",
   "execution_count": 1,
   "metadata": {},
   "outputs": [
    {
     "name": "stdout",
     "output_type": "stream",
     "text": [
      "This directory is: d:\\DocsHD\\MeusProjetos\\automate\\cap009\n",
      "Now i changed it\n",
      "d:\\DocsHD\\MeusProjetos\\automate\\cap006\n"
     ]
    }
   ],
   "source": [
    "import os\n",
    "print(f'This directory is: {os.getcwd()}')\n",
    "print('Now i changed it')\n",
    "os.chdir('d:\\\\DocsHD\\\\MeusProjetos\\\\automate\\\\cap006')\n",
    "print(os.getcwd())\n"
   ]
  },
  {
   "cell_type": "code",
   "execution_count": 1,
   "metadata": {},
   "outputs": [],
   "source": [
    "import os\n",
    "os.makedirs('d:\\\\DocsHD\\\\MeusProjetos\\\\automate\\\\cap009\\\\delicious')"
   ]
  },
  {
   "cell_type": "code",
   "execution_count": 8,
   "metadata": {},
   "outputs": [
    {
     "name": "stdout",
     "output_type": "stream",
     "text": [
      "Created OK: d:\\DocsHD\\MeusProjetos\\automate\\cap009\\delicious\n"
     ]
    }
   ],
   "source": [
    "import os\n",
    "currDirect = os.getcwd()\n",
    "newDirect = currDirect + '\\\\delicious'\n",
    "os.makedirs(newDirect)\n",
    "print(f'Created OK: {newDirect}')\n"
   ]
  }
 ],
 "metadata": {
  "kernelspec": {
   "display_name": "base",
   "language": "python",
   "name": "python3"
  },
  "language_info": {
   "codemirror_mode": {
    "name": "ipython",
    "version": 3
   },
   "file_extension": ".py",
   "mimetype": "text/x-python",
   "name": "python",
   "nbconvert_exporter": "python",
   "pygments_lexer": "ipython3",
   "version": "3.11.5"
  }
 },
 "nbformat": 4,
 "nbformat_minor": 2
}
