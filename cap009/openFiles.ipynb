{
 "cells": [
  {
   "cell_type": "code",
   "execution_count": 9,
   "metadata": {},
   "outputs": [
    {
     "name": "stdout",
     "output_type": "stream",
     "text": [
      "d:\\DocsHD\\MeusProjetos\\automate\\cap009\n",
      "d:\\DocsHD\\MeusProjetos\\automate\\cap009\\hello.txt\n"
     ]
    },
    {
     "data": {
      "text/plain": [
       "'Hello, world!'"
      ]
     },
     "execution_count": 9,
     "metadata": {},
     "output_type": "execute_result"
    }
   ],
   "source": [
    "from pathlib import Path\n",
    "curDirect = Path.cwd()\n",
    "print(curDirect)\n",
    "helloFile = open(curDirect / 'hello.txt')\n",
    "print(curDirect / 'hello.txt')\n",
    "helloContent = helloFile.read()\n",
    "helloContent\n"
   ]
  },
  {
   "cell_type": "code",
   "execution_count": 10,
   "metadata": {},
   "outputs": [
    {
     "data": {
      "text/plain": [
       "[\"When, in disgrace with fortune and men's eyes,\\n\",\n",
       " 'I all alone beweep my outcast state,\\n',\n",
       " 'And trouble deaf heaven with my bootles cries,\\n',\n",
       " 'And look upon myself and curse my fate,']"
      ]
     },
     "execution_count": 10,
     "metadata": {},
     "output_type": "execute_result"
    }
   ],
   "source": [
    "from pathlib import Path\n",
    "curDir = Path.cwd()\n",
    "sonnetFile = open(curDir / 'sonnet29.txt')\n",
    "sonnetFile.readlines()"
   ]
  }
 ],
 "metadata": {
  "kernelspec": {
   "display_name": "base",
   "language": "python",
   "name": "python3"
  },
  "language_info": {
   "codemirror_mode": {
    "name": "ipython",
    "version": 3
   },
   "file_extension": ".py",
   "mimetype": "text/x-python",
   "name": "python",
   "nbconvert_exporter": "python",
   "pygments_lexer": "ipython3",
   "version": "3.11.5"
  }
 },
 "nbformat": 4,
 "nbformat_minor": 2
}
