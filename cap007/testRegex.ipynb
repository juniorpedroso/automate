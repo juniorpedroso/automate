{
 "cells": [
  {
   "cell_type": "code",
   "execution_count": 3,
   "metadata": {},
   "outputs": [
    {
     "name": "stdout",
     "output_type": "stream",
     "text": [
      "['r', 'r', ' ', 'n', 't']\n"
     ]
    }
   ],
   "source": [
    "import re\n",
    "\n",
    "texto = 'arara anata'\n",
    "p1 = re.compile('[^a]')\n",
    "check = p1.findall(texto)\n",
    "\n",
    "print(check)\n"
   ]
  },
  {
   "cell_type": "code",
   "execution_count": 7,
   "metadata": {},
   "outputs": [
    {
     "name": "stdout",
     "output_type": "stream",
     "text": [
      "['1', '9', '9', '2']\n"
     ]
    }
   ],
   "source": [
    "texto = 'arara1992'\n",
    "p1 = re.compile(r'\\d')\n",
    "check = p1.findall(texto)\n",
    "print(check)"
   ]
  },
  {
   "cell_type": "code",
   "execution_count": 14,
   "metadata": {},
   "outputs": [
    {
     "name": "stdout",
     "output_type": "stream",
     "text": [
      "['\\n', '\\n', ' ', '\\n', '\\n']\n",
      "['a', 'r', 'a', 'r', 'a', '1', '9', '9', '2']\n"
     ]
    }
   ],
   "source": [
    "# \\s - Qualquer caracter que SEJA vazio\n",
    "# \\S - Qualquer caracter que NÃO SEJA vazio\n",
    "texto = '''\n",
    "\n",
    "arara 1992\n",
    "\n",
    "'''\n",
    "p1 = re.compile(r'\\s')\n",
    "p2 = re.compile(r'\\S')\n",
    "check1 = p1.findall(texto)\n",
    "check2 = p2.findall(texto)\n",
    "print(check1)\n",
    "print(check2)"
   ]
  },
  {
   "cell_type": "code",
   "execution_count": 16,
   "metadata": {},
   "outputs": [
    {
     "name": "stdout",
     "output_type": "stream",
     "text": [
      "['_', 'a', 'r', 'a', 'r', 'a', '1', '9', '9', '2', '_']\n"
     ]
    }
   ],
   "source": [
    "# \\w - Qualquer caracter que SEJA alfanumérico\n",
    "# \\W - Qualquer caracter que NÃO SEJA alfanumérico\n",
    "texto = '''\n",
    "\n",
    "_arara@ 1992_\n",
    "\n",
    "'''\n",
    "p1 = re.compile(r'\\w')\n",
    "check1 = p1.findall(texto)\n",
    "print(check1)\n"
   ]
  },
  {
   "cell_type": "code",
   "execution_count": 1,
   "metadata": {},
   "outputs": [
    {
     "name": "stdout",
     "output_type": "stream",
     "text": [
      "Hello world!\n"
     ]
    }
   ],
   "source": [
    "print('Hello world!')"
   ]
  }
 ],
 "metadata": {
  "kernelspec": {
   "display_name": "base",
   "language": "python",
   "name": "python3"
  },
  "language_info": {
   "codemirror_mode": {
    "name": "ipython",
    "version": 3
   },
   "file_extension": ".py",
   "mimetype": "text/x-python",
   "name": "python",
   "nbconvert_exporter": "python",
   "pygments_lexer": "ipython3",
   "version": "3.11.5"
  }
 },
 "nbformat": 4,
 "nbformat_minor": 2
}
