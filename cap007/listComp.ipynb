{
 "cells": [
  {
   "cell_type": "code",
   "execution_count": 8,
   "metadata": {},
   "outputs": [
    {
     "name": "stdout",
     "output_type": "stream",
     "text": [
      "['apple', 'banana', 'kiwi']\n",
      "['APPLE', 'BANANA', 'KIWI']\n",
      "Hello My Name Is Mariya\n"
     ]
    }
   ],
   "source": [
    "list = ['apple', 'banana', 'kiwi']\n",
    "print(list)\n",
    "list= [fruit.upper() for fruit in list]\n",
    "print(list)\n",
    "\n",
    "myString = \"HelloMyNameIsMariya\"\n",
    "myString = \"\".join(\n",
    "    [i if i.islower() else \" \" + i for i in myString]\n",
    "    )[1:]\n",
    "    \n",
    "print(myString)"
   ]
  }
 ],
 "metadata": {
  "kernelspec": {
   "display_name": "base",
   "language": "python",
   "name": "python3"
  },
  "language_info": {
   "codemirror_mode": {
    "name": "ipython",
    "version": 3
   },
   "file_extension": ".py",
   "mimetype": "text/x-python",
   "name": "python",
   "nbconvert_exporter": "python",
   "pygments_lexer": "ipython3",
   "version": "3.11.5"
  }
 },
 "nbformat": 4,
 "nbformat_minor": 2
}
