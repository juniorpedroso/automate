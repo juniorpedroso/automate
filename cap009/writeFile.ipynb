{
 "cells": [
  {
   "cell_type": "code",
   "execution_count": 6,
   "metadata": {},
   "outputs": [
    {
     "name": "stdout",
     "output_type": "stream",
     "text": [
      "Hello, world!\n",
      "Bacon is not a vegetable.\n"
     ]
    }
   ],
   "source": [
    "# from pathlib import Path\n",
    "baconFile = open('bacon.txt', 'w')\n",
    "baconFile.write('Hello, world!\\n')\n",
    "baconFile.close()\n",
    "baconFile = open('bacon.txt', 'a')\n",
    "baconFile.write('Bacon is not a vegetable.')\n",
    "baconFile = open('bacon.txt')\n",
    "content = baconFile.read()\n",
    "baconFile.close()\n",
    "print(content)\n"
   ]
  }
 ],
 "metadata": {
  "kernelspec": {
   "display_name": "base",
   "language": "python",
   "name": "python3"
  },
  "language_info": {
   "codemirror_mode": {
    "name": "ipython",
    "version": 3
   },
   "file_extension": ".py",
   "mimetype": "text/x-python",
   "name": "python",
   "nbconvert_exporter": "python",
   "pygments_lexer": "ipython3",
   "version": "3.11.5"
  }
 },
 "nbformat": 4,
 "nbformat_minor": 2
}
