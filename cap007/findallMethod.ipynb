{
 "cells": [
  {
   "cell_type": "code",
   "execution_count": 9,
   "metadata": {},
   "outputs": [
    {
     "name": "stdout",
     "output_type": "stream",
     "text": [
      "Search Method: 415-555-9999\n",
      "Findall Method: ['415-555-9999', '212-555-0000']\n",
      "Findall Groups: [('415', '555', '9999'), ('212', '555', '0000')]\n"
     ]
    }
   ],
   "source": [
    "import re\n",
    "phoneNumRegex = re.compile(r'\\d{3}-\\d{3}-\\d{4}')\n",
    "mo = phoneNumRegex.search('Cell: 415-555-9999 Work: 212-555-0000')\n",
    "print(f'Search Method: {mo.group()}')\n",
    "\n",
    "phoneNumRegex = re.compile(r'\\d{3}-\\d{3}-\\d{4}') # has no groups\n",
    "print(f\"Findall Method: {phoneNumRegex.findall('Cell: 415-555-9999 Work: 212-555-0000')}\")\n",
    "\n",
    "phoneNumRegex = re.compile(r'(\\d{3})-(\\d{3})-(\\d{4})') # has groups\n",
    "print(f\"Findall Groups: {phoneNumRegex.findall('Cell: 415-555-9999 Work: 212-555-0000')}\")"
   ]
  }
 ],
 "metadata": {
  "kernelspec": {
   "display_name": "base",
   "language": "python",
   "name": "python3"
  },
  "language_info": {
   "codemirror_mode": {
    "name": "ipython",
    "version": 3
   },
   "file_extension": ".py",
   "mimetype": "text/x-python",
   "name": "python",
   "nbconvert_exporter": "python",
   "pygments_lexer": "ipython3",
   "version": "3.11.5"
  }
 },
 "nbformat": 4,
 "nbformat_minor": 2
}
