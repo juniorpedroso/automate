{
 "cells": [
  {
   "cell_type": "code",
   "execution_count": 2,
   "metadata": {},
   "outputs": [
    {
     "name": "stdout",
     "output_type": "stream",
     "text": [
      "C:\\Users\\asweigart\\account.txt\n",
      "C:\\Users\\asweigart\\details.csv\n",
      "C:\\Users\\asweigart\\invite.docx\n"
     ]
    }
   ],
   "source": [
    "import os\n",
    "myFiles = ['account.txt', 'details.csv', 'invite.docx']\n",
    "for filename in myFiles:\n",
    "    print(os.path.join('C:\\\\Users\\\\asweigart',filename))\n"
   ]
  },
  {
   "cell_type": "code",
   "execution_count": 10,
   "metadata": {},
   "outputs": [
    {
     "name": "stdout",
     "output_type": "stream",
     "text": [
      "C:\\Users\\Al\\account.txt\n",
      "C:\\Users\\Al\\detais.csv\n",
      "C:\\Users\\Al\\invite.docx\n"
     ]
    }
   ],
   "source": [
    "from pathlib import Path\n",
    "myFiles = ['account.txt', 'detais.csv', 'invite.docx']\n",
    "for filename in myFiles:\n",
    "    print(Path(r'C:\\Users\\Al', filename))\n"
   ]
  },
  {
   "cell_type": "code",
   "execution_count": 1,
   "metadata": {},
   "outputs": [
    {
     "name": "stdout",
     "output_type": "stream",
     "text": [
      "This directory is: d:\\DocsHD\\MeusProjetos\\automate\\cap009\n",
      "Now i changed it\n",
      "d:\\DocsHD\\MeusProjetos\\automate\\cap006\n"
     ]
    }
   ],
   "source": [
    "import os\n",
    "print(f'This directory is: {os.getcwd()}')\n",
    "print('Now i changed it')\n",
    "os.chdir('d:\\\\DocsHD\\\\MeusProjetos\\\\automate\\\\cap006')\n",
    "print(os.getcwd())\n"
   ]
  },
  {
   "cell_type": "code",
   "execution_count": 1,
   "metadata": {},
   "outputs": [],
   "source": [
    "import os\n",
    "os.makedirs('d:\\\\DocsHD\\\\MeusProjetos\\\\automate\\\\cap009\\\\delicious')"
   ]
  },
  {
   "cell_type": "code",
   "execution_count": 1,
   "metadata": {},
   "outputs": [
    {
     "name": "stdout",
     "output_type": "stream",
     "text": [
      "Created OK: c:\\Users\\policial\\Documents\\Junior\\MeusProjetos\\automate\\cap009\\delicious\n"
     ]
    }
   ],
   "source": [
    "import os\n",
    "currDirect = os.getcwd()\n",
    "newDirect = currDirect + '\\\\delicious'\n",
    "os.makedirs(newDirect)\n",
    "print(f'Created OK: {newDirect}')\n"
   ]
  },
  {
   "cell_type": "markdown",
   "metadata": {},
   "source": [
    "# Exercicio criado no Plantao"
   ]
  },
  {
   "cell_type": "code",
   "execution_count": 7,
   "metadata": {},
   "outputs": [
    {
     "name": "stdout",
     "output_type": "stream",
     "text": [
      "Old directory: c:\\Users\\policial\\Documents\\Junior\\MeusProjetos\\automate\\cap008\n",
      "New directory: c:\\Users\\policial\\Documents\\Junior\\MeusProjetos\\automate\\cap008\n",
      "Old directory: c:\\Users\\policial\\Documents\\Junior\\MeusProjetos\\automate\\cap009\n"
     ]
    }
   ],
   "source": [
    "from pathlib import Path\n",
    "import os\n",
    "print(f'Old directory: {Path.cwd()}')\n",
    "os.chdir('c:\\\\Users\\\\policial\\\\Documents\\\\Junior\\\\MeusProjetos\\\\automate\\\\cap008')\n",
    "print(f'New directory: {Path.cwd()}')\n",
    "os.chdir('c:\\\\Users\\\\policial\\\\Documents\\\\Junior\\\\MeusProjetos\\\\automate\\\\cap009')\n",
    "print(f'Old directory: {Path.cwd()}')"
   ]
  },
  {
   "cell_type": "markdown",
   "metadata": {},
   "source": [
    "# Handling Absolute and Relative Paths"
   ]
  },
  {
   "cell_type": "code",
   "execution_count": 1,
   "metadata": {},
   "outputs": [
    {
     "name": "stdout",
     "output_type": "stream",
     "text": [
      "c:\\Users\\policial\\Documents\\Junior\\MeusProjetos\\automate\\cap009\n"
     ]
    }
   ],
   "source": [
    "from pathlib import Path\n",
    "print(Path.cwd())\n"
   ]
  },
  {
   "cell_type": "code",
   "execution_count": 2,
   "metadata": {},
   "outputs": [
    {
     "name": "stdout",
     "output_type": "stream",
     "text": [
      "d:\\DocsHD\\MeusProjetos\\automate\\cap009\\my\\relative\\path\n"
     ]
    },
    {
     "data": {
      "text/plain": [
       "'d:\\\\DocsHD\\\\MeusProjetos\\\\automate\\\\cap009\\\\my\\\\relative\\\\path'"
      ]
     },
     "execution_count": 2,
     "metadata": {},
     "output_type": "execute_result"
    }
   ],
   "source": [
    "from pathlib import Path\n",
    "import os\n",
    "Path('my/relative/path')\n",
    "print(Path.cwd() / Path('my/relative/path'))\n",
    "os.path.abspath('my/relative/path')"
   ]
  },
  {
   "cell_type": "markdown",
   "metadata": {},
   "source": [
    "# / math division operador to join paths correctly"
   ]
  },
  {
   "cell_type": "code",
   "execution_count": 3,
   "metadata": {},
   "outputs": [
    {
     "data": {
      "text/plain": [
       "WindowsPath('c:/Users/Al/spam')"
      ]
     },
     "execution_count": 3,
     "metadata": {},
     "output_type": "execute_result"
    }
   ],
   "source": [
    "from pathlib import Path\n",
    "homeFolder = Path('c:/Users/Al')\n",
    "subFolder = Path('spam')\n",
    "homeFolder / subFolder"
   ]
  },
  {
   "cell_type": "markdown",
   "metadata": {},
   "source": [
    "# The parts of a file path"
   ]
  },
  {
   "cell_type": "code",
   "execution_count": 7,
   "metadata": {},
   "outputs": [
    {
     "name": "stdout",
     "output_type": "stream",
     "text": [
      "anchor: C:\\\n",
      "parent: C:\\Users\\Al\n",
      "name..: spam.txt\n",
      "stem..: spam\n",
      "suffix: .txt\n",
      "drive.: C:\n"
     ]
    }
   ],
   "source": [
    "from pathlib import Path\n",
    "p = Path('C:/Users/Al/spam.txt')\n",
    "print(f'anchor: {p.anchor}')\n",
    "print(f'parent: {p.parent}')\n",
    "print(f'name..: {p.name}')\n",
    "print(f'stem..: {p.stem}')\n",
    "print(f'suffix: {p.suffix}')\n",
    "print(f'drive.: {p.drive}')"
   ]
  },
  {
   "cell_type": "markdown",
   "metadata": {},
   "source": [
    "# Number of parents"
   ]
  },
  {
   "cell_type": "code",
   "execution_count": 12,
   "metadata": {},
   "outputs": [
    {
     "name": "stdout",
     "output_type": "stream",
     "text": [
      "d:\\DocsHD\\MeusProjetos\\automate\\cap009\n",
      "4\n",
      "d:\\DocsHD\\MeusProjetos\\automate\n",
      "d:\\DocsHD\\MeusProjetos\n",
      "d:\\DocsHD\n",
      "d:\\\n"
     ]
    }
   ],
   "source": [
    "from pathlib import Path\n",
    "curDir = Path.cwd()\n",
    "print(curDir)\n",
    "print(len(Path.cwd().parents))\n",
    "nParent = len(Path.cwd().parents)\n",
    "for i in range(nParent):\n",
    "    print(Path.cwd().parents[i])"
   ]
  }
 ],
 "metadata": {
  "kernelspec": {
   "display_name": "base",
   "language": "python",
   "name": "python3"
  },
  "language_info": {
   "codemirror_mode": {
    "name": "ipython",
    "version": 3
   },
   "file_extension": ".py",
   "mimetype": "text/x-python",
   "name": "python",
   "nbconvert_exporter": "python",
   "pygments_lexer": "ipython3",
   "version": "3.11.5"
  }
 },
 "nbformat": 4,
 "nbformat_minor": 2
}
